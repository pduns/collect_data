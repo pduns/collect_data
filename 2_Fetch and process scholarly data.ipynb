{
 "cells": [
  {
   "cell_type": "code",
   "execution_count": 1,
   "metadata": {},
   "outputs": [],
   "source": [
    "# sources: https://docs.api.lens.org/request-scholar.html; https://docs.api.lens.org/examples-scholar.html#get-scholarly-works-using-multiple-pmid; https://docs.api.lens.org/samples-scholar.html#python"
   ]
  },
  {
   "cell_type": "markdown",
   "metadata": {},
   "source": [
    "## 1. Open and merge the pubmedIDs"
   ]
  },
  {
   "cell_type": "code",
   "execution_count": null,
   "metadata": {},
   "outputs": [],
   "source": [
    "## 2.1. Open and merge the pubmedIDs# sources: https://docs.api.lens.org/request-scholar.html; https://docs.api.lens.org/examples-scholar.html#get-scholarly-works-using-multiple-pmid; https://docs.api.lens.org/samples-scholar.html#python"
   ]
  },
  {
   "cell_type": "code",
   "execution_count": 7,
   "metadata": {},
   "outputs": [],
   "source": [
    "#df.loc[df.pubMed != 'none', 'pubMed'] = 'available'\n",
    "#df.loc[df.pubMed != 'none', 'origins'] = 'available'\n",
    "#df.to_csv('C:/Users/pauld/Documents/GitHub/Pilot study/Cleaned full data_merged_categories.csv',index=False)"
   ]
  },
  {
   "cell_type": "code",
   "execution_count": 3,
   "metadata": {},
   "outputs": [
    {
     "data": {
      "text/plain": [
       "['Pyrococcus furiosus COM1',\n",
       " 'Thermotoga maritima MSB8',\n",
       " 'Takifugu rubripes',\n",
       " 'Takifugu rubripes rubripes',\n",
       " 'Pyrococcus furiosus DSM 3638',\n",
       " 'Photobacterium sp. SKA34',\n",
       " 'Thermotoga maritima',\n",
       " 'Tetraodon nigroviridis',\n",
       " 'Pyrococcus furiosus']"
      ]
     },
     "execution_count": 3,
     "metadata": {},
     "output_type": "execute_result"
    }
   ],
   "source": [
    "# inspecting whether organisms still need to be standardized\n",
    "list(set(df['organism'])) # these seems to be "
   ]
  },
  {
   "cell_type": "code",
   "execution_count": 4,
   "metadata": {},
   "outputs": [],
   "source": [
    "# clean data so that takifugu rubripes is standardized (not sure why there are a few sequences that have rubripes twice in their name)\n",
    "df = df.replace({'organism' : { 'Takifugu rubripes rubripes' : 'Takifugu rubripes', 'Pyrococcus furiosus COM1' : 'Pyrococcus furiosus', 'Thermotoga maritima MSB8' : 'Thermotoga maritima', 'Pyrococcus furiosus DSM 3638':'Pyrococcus furiosus' }})"
   ]
  },
  {
   "cell_type": "code",
   "execution_count": 5,
   "metadata": {},
   "outputs": [
    {
     "data": {
      "text/html": [
       "<div>\n",
       "<style scoped>\n",
       "    .dataframe tbody tr th:only-of-type {\n",
       "        vertical-align: middle;\n",
       "    }\n",
       "\n",
       "    .dataframe tbody tr th {\n",
       "        vertical-align: top;\n",
       "    }\n",
       "\n",
       "    .dataframe thead th {\n",
       "        text-align: right;\n",
       "    }\n",
       "</style>\n",
       "<table border=\"1\" class=\"dataframe\">\n",
       "  <thead>\n",
       "    <tr style=\"text-align: right;\">\n",
       "      <th></th>\n",
       "      <th>AN</th>\n",
       "      <th>pubMed</th>\n",
       "      <th>origins</th>\n",
       "      <th>pub. date</th>\n",
       "      <th>organism</th>\n",
       "    </tr>\n",
       "  </thead>\n",
       "  <tbody>\n",
       "    <tr>\n",
       "      <th>96</th>\n",
       "      <td>AF255623</td>\n",
       "      <td>12024264</td>\n",
       "      <td>none</td>\n",
       "      <td>2003</td>\n",
       "      <td>Photobacterium sp. SKA34</td>\n",
       "    </tr>\n",
       "    <tr>\n",
       "      <th>212</th>\n",
       "      <td>PYWILES</td>\n",
       "      <td>7708661</td>\n",
       "      <td>none</td>\n",
       "      <td>1995</td>\n",
       "      <td>Pyrococcus furiosus</td>\n",
       "    </tr>\n",
       "    <tr>\n",
       "      <th>216</th>\n",
       "      <td>AF102769</td>\n",
       "      <td>9973343</td>\n",
       "      <td>none</td>\n",
       "      <td>2016</td>\n",
       "      <td>Pyrococcus furiosus</td>\n",
       "    </tr>\n",
       "    <tr>\n",
       "      <th>217</th>\n",
       "      <td>AF101433</td>\n",
       "      <td>9973343</td>\n",
       "      <td>none</td>\n",
       "      <td>2016</td>\n",
       "      <td>Pyrococcus furiosus</td>\n",
       "    </tr>\n",
       "    <tr>\n",
       "      <th>218</th>\n",
       "      <td>AF101432</td>\n",
       "      <td>9973343</td>\n",
       "      <td>none</td>\n",
       "      <td>2016</td>\n",
       "      <td>Pyrococcus furiosus</td>\n",
       "    </tr>\n",
       "    <tr>\n",
       "      <th>...</th>\n",
       "      <td>...</td>\n",
       "      <td>...</td>\n",
       "      <td>...</td>\n",
       "      <td>...</td>\n",
       "      <td>...</td>\n",
       "    </tr>\n",
       "    <tr>\n",
       "      <th>748643</th>\n",
       "      <td>X75437</td>\n",
       "      <td>7859734</td>\n",
       "      <td>none</td>\n",
       "      <td>1995</td>\n",
       "      <td>Thermotoga maritima</td>\n",
       "    </tr>\n",
       "    <tr>\n",
       "      <th>748644</th>\n",
       "      <td>X74302</td>\n",
       "      <td>8404889</td>\n",
       "      <td>none</td>\n",
       "      <td>1993</td>\n",
       "      <td>Thermotoga maritima</td>\n",
       "    </tr>\n",
       "    <tr>\n",
       "      <th>748645</th>\n",
       "      <td>X74163</td>\n",
       "      <td>8277941</td>\n",
       "      <td>none</td>\n",
       "      <td>2016</td>\n",
       "      <td>Thermotoga maritima</td>\n",
       "    </tr>\n",
       "    <tr>\n",
       "      <th>748647</th>\n",
       "      <td>Y09510</td>\n",
       "      <td>9044261</td>\n",
       "      <td>none</td>\n",
       "      <td>2005</td>\n",
       "      <td>Thermotoga maritima</td>\n",
       "    </tr>\n",
       "    <tr>\n",
       "      <th>748649</th>\n",
       "      <td>Y12877</td>\n",
       "      <td>9391052</td>\n",
       "      <td>none</td>\n",
       "      <td>1997</td>\n",
       "      <td>Thermotoga maritima</td>\n",
       "    </tr>\n",
       "  </tbody>\n",
       "</table>\n",
       "<p>288888 rows × 5 columns</p>\n",
       "</div>"
      ],
      "text/plain": [
       "              AN    pubMed origins pub. date                  organism\n",
       "96      AF255623  12024264    none      2003  Photobacterium sp. SKA34\n",
       "212      PYWILES   7708661    none      1995       Pyrococcus furiosus\n",
       "216     AF102769   9973343    none      2016       Pyrococcus furiosus\n",
       "217     AF101433   9973343    none      2016       Pyrococcus furiosus\n",
       "218     AF101432   9973343    none      2016       Pyrococcus furiosus\n",
       "...          ...       ...     ...       ...                       ...\n",
       "748643    X75437   7859734    none      1995       Thermotoga maritima\n",
       "748644    X74302   8404889    none      1993       Thermotoga maritima\n",
       "748645    X74163   8277941    none      2016       Thermotoga maritima\n",
       "748647    Y09510   9044261    none      2005       Thermotoga maritima\n",
       "748649    Y12877   9391052    none      1997       Thermotoga maritima\n",
       "\n",
       "[288888 rows x 5 columns]"
      ]
     },
     "execution_count": 5,
     "metadata": {},
     "output_type": "execute_result"
    }
   ],
   "source": [
    "# inspect the data at first: how many squences are there\n",
    "df[(df['organism'] != 'Takifugu rubripes') & (df['pubMed'] != 'none')]"
   ]
  },
  {
   "cell_type": "code",
   "execution_count": 7,
   "metadata": {},
   "outputs": [
    {
     "data": {
      "text/html": [
       "<div>\n",
       "<style scoped>\n",
       "    .dataframe tbody tr th:only-of-type {\n",
       "        vertical-align: middle;\n",
       "    }\n",
       "\n",
       "    .dataframe tbody tr th {\n",
       "        vertical-align: top;\n",
       "    }\n",
       "\n",
       "    .dataframe thead th {\n",
       "        text-align: right;\n",
       "    }\n",
       "</style>\n",
       "<table border=\"1\" class=\"dataframe\">\n",
       "  <thead>\n",
       "    <tr style=\"text-align: right;\">\n",
       "      <th></th>\n",
       "      <th>AN</th>\n",
       "      <th>pubMed</th>\n",
       "      <th>origins</th>\n",
       "      <th>pub. date</th>\n",
       "      <th>organism</th>\n",
       "    </tr>\n",
       "  </thead>\n",
       "  <tbody>\n",
       "    <tr>\n",
       "      <th>847</th>\n",
       "      <td>CP023154</td>\n",
       "      <td>none</td>\n",
       "      <td>Italy</td>\n",
       "      <td>2019</td>\n",
       "      <td>Pyrococcus furiosus</td>\n",
       "    </tr>\n",
       "    <tr>\n",
       "      <th>1426</th>\n",
       "      <td>KM892551</td>\n",
       "      <td>25566211</td>\n",
       "      <td>Italy</td>\n",
       "      <td>2015</td>\n",
       "      <td>Pyrococcus furiosus</td>\n",
       "    </tr>\n",
       "    <tr>\n",
       "      <th>1528</th>\n",
       "      <td>AB385663</td>\n",
       "      <td>18582469</td>\n",
       "      <td>Japan</td>\n",
       "      <td>2011</td>\n",
       "      <td>Takifugu rubripes</td>\n",
       "    </tr>\n",
       "    <tr>\n",
       "      <th>1529</th>\n",
       "      <td>AB385664</td>\n",
       "      <td>18582469</td>\n",
       "      <td>Japan</td>\n",
       "      <td>2011</td>\n",
       "      <td>Takifugu rubripes</td>\n",
       "    </tr>\n",
       "    <tr>\n",
       "      <th>1530</th>\n",
       "      <td>AB385665</td>\n",
       "      <td>18582469</td>\n",
       "      <td>Japan</td>\n",
       "      <td>2011</td>\n",
       "      <td>Takifugu rubripes</td>\n",
       "    </tr>\n",
       "    <tr>\n",
       "      <th>...</th>\n",
       "      <td>...</td>\n",
       "      <td>...</td>\n",
       "      <td>...</td>\n",
       "      <td>...</td>\n",
       "      <td>...</td>\n",
       "    </tr>\n",
       "    <tr>\n",
       "      <th>746710</th>\n",
       "      <td>HM138204</td>\n",
       "      <td>20810728</td>\n",
       "      <td>China</td>\n",
       "      <td>2010</td>\n",
       "      <td>Tetraodon nigroviridis</td>\n",
       "    </tr>\n",
       "    <tr>\n",
       "      <th>746858</th>\n",
       "      <td>FJ792639</td>\n",
       "      <td>none</td>\n",
       "      <td>Thailand</td>\n",
       "      <td>2009</td>\n",
       "      <td>Tetraodon nigroviridis</td>\n",
       "    </tr>\n",
       "    <tr>\n",
       "      <th>747736</th>\n",
       "      <td>CP011108</td>\n",
       "      <td>29959252</td>\n",
       "      <td>USA</td>\n",
       "      <td>2020</td>\n",
       "      <td>Thermotoga maritima</td>\n",
       "    </tr>\n",
       "    <tr>\n",
       "      <th>747737</th>\n",
       "      <td>CP010967</td>\n",
       "      <td>26021931</td>\n",
       "      <td>USA</td>\n",
       "      <td>2020</td>\n",
       "      <td>Thermotoga maritima</td>\n",
       "    </tr>\n",
       "    <tr>\n",
       "      <th>748601</th>\n",
       "      <td>CP011107</td>\n",
       "      <td>29959252</td>\n",
       "      <td>Italy</td>\n",
       "      <td>2020</td>\n",
       "      <td>Thermotoga maritima</td>\n",
       "    </tr>\n",
       "  </tbody>\n",
       "</table>\n",
       "<p>222 rows × 5 columns</p>\n",
       "</div>"
      ],
      "text/plain": [
       "              AN    pubMed   origins pub. date                organism\n",
       "847     CP023154      none     Italy      2019     Pyrococcus furiosus\n",
       "1426    KM892551  25566211     Italy      2015     Pyrococcus furiosus\n",
       "1528    AB385663  18582469     Japan      2011       Takifugu rubripes\n",
       "1529    AB385664  18582469     Japan      2011       Takifugu rubripes\n",
       "1530    AB385665  18582469     Japan      2011       Takifugu rubripes\n",
       "...          ...       ...       ...       ...                     ...\n",
       "746710  HM138204  20810728     China      2010  Tetraodon nigroviridis\n",
       "746858  FJ792639      none  Thailand      2009  Tetraodon nigroviridis\n",
       "747736  CP011108  29959252       USA      2020     Thermotoga maritima\n",
       "747737  CP010967  26021931       USA      2020     Thermotoga maritima\n",
       "748601  CP011107  29959252     Italy      2020     Thermotoga maritima\n",
       "\n",
       "[222 rows x 5 columns]"
      ]
     },
     "execution_count": 7,
     "metadata": {},
     "output_type": "execute_result"
    }
   ],
   "source": [
    "df[df['origins'] != 'none']"
   ]
  },
  {
   "cell_type": "code",
   "execution_count": 10,
   "metadata": {},
   "outputs": [
    {
     "data": {
      "text/plain": [
       "0         Photobacterium sp. SKA34\n",
       "1         Photobacterium sp. SKA34\n",
       "2         Photobacterium sp. SKA34\n",
       "3         Photobacterium sp. SKA34\n",
       "4         Photobacterium sp. SKA34\n",
       "                    ...           \n",
       "748867         Thermotoga maritima\n",
       "748868         Thermotoga maritima\n",
       "748869         Thermotoga maritima\n",
       "748870         Thermotoga maritima\n",
       "748871         Thermotoga maritima\n",
       "Name: organism, Length: 748872, dtype: object"
      ]
     },
     "execution_count": 10,
     "metadata": {},
     "output_type": "execute_result"
    }
   ],
   "source": [
    "df['pub']"
   ]
  },
  {
   "cell_type": "code",
   "execution_count": 13,
   "metadata": {},
   "outputs": [
    {
     "data": {
      "text/plain": [
       "544"
      ]
     },
     "execution_count": 13,
     "metadata": {},
     "output_type": "execute_result"
    }
   ],
   "source": [
    "len(set(df['pubMed'][df['pubMed'] != 'none']))"
   ]
  },
  {
   "cell_type": "code",
   "execution_count": 114,
   "metadata": {},
   "outputs": [],
   "source": [
    "df_vis = df.copy()\n",
    "df_vis.loc[df.pubMed != 'none', 'pubMed'] = 'available'"
   ]
  },
  {
   "cell_type": "code",
   "execution_count": 13,
   "metadata": {},
   "outputs": [
    {
     "data": {
      "text/plain": [
       "<AxesSubplot:xlabel='organism', ylabel='Count'>"
      ]
     },
     "execution_count": 13,
     "metadata": {},
     "output_type": "execute_result"
    },
    {
     "data": {
      "image/png": "[encoded data removed]",
      "text/plain": [
       "<Figure size 864x360 with 1 Axes>"
      ]
     },
     "metadata": {},
     "output_type": "display_data"
    }
   ],
   "source": [
    "# count organisms\n",
    "sns.histplot(df, x=\"organism\", shrink=.7)"
   ]
  },
  {
   "cell_type": "code",
   "execution_count": null,
   "metadata": {},
   "outputs": [],
   "source": [
    "# I could substract from the mean to ake the differences clearer"
   ]
  },
  {
   "cell_type": "code",
   "execution_count": 12,
   "metadata": {},
   "outputs": [
    {
     "data": {
      "text/plain": [
       "<AxesSubplot:xlabel='organism', ylabel='Probability'>"
      ]
     },
     "execution_count": 12,
     "metadata": {},
     "output_type": "execute_result"
    },
    {
     "data": {
      "image/png": "[encoded data removed]",
      "text/plain": [
       "<Figure size 864x360 with 1 Axes>"
      ]
     },
     "metadata": {},
     "output_type": "display_data"
    }
   ],
   "source": [
    "# plot availabililty of pubMed, origin\n",
    "\n",
    "df_vis = df.copy()\n",
    "df_vis.loc[df.pubMed != 'none', 'pubMed'] = 'available'\n",
    "\n",
    "#df.loc[df.pubMed != 'none', 'origins'] = 'available'\n",
    "\n",
    "sns.set_theme(style=\"darkgrid\")\n",
    "sns.set(rc = {'figure.figsize':(12,5)})\n",
    "\n",
    "sns.histplot(df_vis, x=\"organism\", hue=\"pubMed\", stat=\"probability\", multiple=\"fill\", shrink=.7)"
   ]
  },
  {
   "cell_type": "code",
   "execution_count": 137,
   "metadata": {},
   "outputs": [
    {
     "data": {
      "text/plain": [
       "<AxesSubplot:xlabel='organism', ylabel='Probability'>"
      ]
     },
     "execution_count": 137,
     "metadata": {},
     "output_type": "execute_result"
    },
    {
     "data": {
      "image/png": "[encoded data removed]",
      "text/plain": [
       "<Figure size 864x360 with 1 Axes>"
      ]
     },
     "metadata": {},
     "output_type": "display_data"
    }
   ],
   "source": [
    "## Origins --> but these are overall only 222, so there is very very little country of origin info\n",
    "#df_vis.loc[df.origins != 'none', 'origins'] = 'available' --> this results in only 'none' pretty much\n",
    "sns.histplot(df_vis[df_vis['origins'] != 'none'], x=\"organism\", hue=\"origins\", stat=\"probability\", multiple=\"fill\", shrink=.7)"
   ]
  },
  {
   "cell_type": "code",
   "execution_count": null,
   "metadata": {},
   "outputs": [],
   "source": [
    "# but also, scientists may be less likely to report on ABNJ? "
   ]
  },
  {
   "cell_type": "code",
   "execution_count": 14,
   "metadata": {},
   "outputs": [
    {
     "data": {
      "text/plain": [
       "544"
      ]
     },
     "execution_count": 14,
     "metadata": {},
     "output_type": "execute_result"
    }
   ],
   "source": [
    "# make list of unique pubmed_ids:  \n",
    "pubmed_ids_fs = list(set(df['pubMed'][df['pubMed'] != 'none']))\n",
    "len(pubmed_ids_fs)\n",
    "\n"
   ]
  },
  {
   "cell_type": "markdown",
   "metadata": {},
   "source": [
    "## 2. Download and export the scholarly raw data based on the pubmedIDs"
   ]
  },
  {
   "cell_type": "code",
   "execution_count": 19,
   "metadata": {
    "scrolled": true
   },
   "outputs": [
    {
     "name": "stdout",
     "output_type": "stream",
     "text": [
      "<bound method Response.json of <Response [200]>>\n",
      "--- 3.147932529449463 seconds ---\n"
     ]
    }
   ],
   "source": [
    "# turn into json so it is readable for the iterator\n",
    "s = json.dumps(pubmed_ids_fs)\n",
    "\n",
    "#### scrape the scholarly data using the pubmedID# if doing more than 1000, I need cursor-based pagination\n",
    "data = []\n",
    "start_time = time.time()\n",
    "\n",
    "\n",
    "url = 'https://api.lens.org/scholarly/search'\n",
    "\n",
    "data_string = '''{\n",
    "    \"query\": {\n",
    "        \"terms\": {\n",
    "        \"pmid\": %s \n",
    "                }\n",
    "            },\n",
    "    \"size\": 600\n",
    "        }''' % s\n",
    "headers = {'Authorization': 'IjpxxGZZQcGCQxBzAx5VDqPqHXhQjAqSkdnAYHQCRAkfkAlVDjCI', 'Content-Type': 'application/json'}\n",
    "response = requests.post(url, data=data_string, headers=headers)\n",
    "if response.status_code != requests.codes.ok:\n",
    "    print(response.status_code)\n",
    "else:\n",
    "    print(response.json)\n",
    "data.append(response.json())\n",
    "\n",
    "\n",
    "print(\"--- %s seconds ---\" % (time.time() - start_time))\n",
    "\n",
    "\n",
    "# save it\n",
    "with open(r'C:\\Users\\pauld\\Documents\\GitHub\\Pilot study\\Raw data\\full-data_scholarly-lens.json', 'w') as f:\n",
    "    json.dump(data, f)"
   ]
  },
  {
   "cell_type": "markdown",
   "metadata": {},
   "source": [
    "pp = pprint.PrettyPrinter()\n",
    "pp.pprint(data)"
   ]
  },
  {
   "cell_type": "markdown",
   "metadata": {},
   "source": [
    "## 3. Export the network data: Publications - Patents"
   ]
  },
  {
   "cell_type": "code",
   "execution_count": 50,
   "metadata": {},
   "outputs": [],
   "source": [
    "# open the raw publication data again so that I can edit it\n",
    "#with open(r'..\\Raw data\\full-data_scholarly-lens.json') as json_string:\n",
    "#    data = json.load(json_string)\n",
    "    \n",
    "    "
   ]
  },
  {
   "cell_type": "code",
   "execution_count": 55,
   "metadata": {},
   "outputs": [
    {
     "data": {
      "text/plain": [
       "'000-088-774-471-797'"
      ]
     },
     "execution_count": 55,
     "metadata": {},
     "output_type": "execute_result"
    }
   ],
   "source": [
    "#data[0]['data'][0]['lens_id']"
   ]
  },
  {
   "cell_type": "code",
   "execution_count": 79,
   "metadata": {},
   "outputs": [],
   "source": [
    "# publications\n",
    "patent_ids = []\n",
    "publications_ids = []\n",
    "pubmed_ids = []\n",
    "\n",
    "for i in data: \n",
    "    for k, v in i.items(): \n",
    "        if k == 'data': \n",
    "            for publication in v: \n",
    "                for key, value in publication.items(): \n",
    "                    if key == 'patent_citations': \n",
    "                        for ii in value: \n",
    "                            for keyss, valuess in ii.items(): \n",
    "                                patent_ids.append(valuess)\n",
    "                                publications_ids.append(publication['lens_id'])\n",
    "                                for e in publication['external_ids']:\n",
    "                                    if 'pmid' in e.values():\n",
    "                                        pubmed_ids.append(e['value'])\n",
    "                                        \n",
    "                        \n",
    "                        \n",
    "                        \n",
    "                        \n",
    "                        #for e in publication['external_ids']:\n",
    "                        #    for keys, values in e.items():\n",
    "                        #        if values == 'pmid':\n",
    "                        #            for ii in value: \n",
    "                        #                for keyss, valuess in ii.items(): \n",
    "                        #                    patent_ids.append(valuess)\n",
    "                        #                    pubmed_ids.append(e['value'])\n",
    "                                    "
   ]
  },
  {
   "cell_type": "code",
   "execution_count": null,
   "metadata": {},
   "outputs": [],
   "source": [
    "# it is strange how every single publication appears to have a pmid"
   ]
  },
  {
   "cell_type": "code",
   "execution_count": 88,
   "metadata": {},
   "outputs": [],
   "source": [
    "# merge the lists into dict and to pandas                                    \n",
    "dictdata = {'publication_ids': publications_ids, 'patentID': patent_ids, 'pubmed_IDs': pubmed_ids} # maybe I have to write it as dict instead of dictdata? \n",
    "df_edge = pd.DataFrame(dictdata)\n",
    "            \n",
    "## export the data files\n",
    "df_edge.to_csv('../Network data/pub_patent_edges.csv',index=False)\n"
   ]
  },
  {
   "cell_type": "code",
   "execution_count": 24,
   "metadata": {},
   "outputs": [
    {
     "name": "stdout",
     "output_type": "stream",
     "text": [
      "publications most frequently cited in patents\n"
     ]
    },
    {
     "data": {
      "text/plain": [
       "[('16381832', 327),\n",
       " ('10360571', 68),\n",
       " ('14765194', 60),\n",
       " ('9560249', 53),\n",
       " ('14623098', 46),\n",
       " ('9680336', 41),\n",
       " ('9293008', 40),\n",
       " ('9195939', 36),\n",
       " ('8522516', 32),\n",
       " ('8441634', 32),\n",
       " ('15590700', 26),\n",
       " ('10542158', 26),\n",
       " ('12893874', 20),\n",
       " ('8828221', 20),\n",
       " ('10430560', 20),\n",
       " ('11782527', 19),\n",
       " ('8872459', 18),\n",
       " ('8798600', 18),\n",
       " ('15976025', 18),\n",
       " ('8277941', 17),\n",
       " ('9006052', 17),\n",
       " ('12813049', 17),\n",
       " ('12711219', 14),\n",
       " ('15499007', 14),\n",
       " ('8406037', 14),\n",
       " ('16381931', 14),\n",
       " ('9341881', 13),\n",
       " ('9524230', 13),\n",
       " ('12917688', 12),\n",
       " ('9012808', 12),\n",
       " ('10835645', 11),\n",
       " ('16794080', 11),\n",
       " ('7685830', 10),\n",
       " ('9086272', 10),\n",
       " ('7828913', 10),\n",
       " ('10932196', 10),\n",
       " ('9348040', 9),\n",
       " ('15843597', 9),\n",
       " ('8702780', 9),\n",
       " ('10714990', 9),\n",
       " ('16785531', 9),\n",
       " ('9887327', 9),\n",
       " ('7878465', 8),\n",
       " ('11032317', 8),\n",
       " ('8177738', 8),\n",
       " ('21592973', 8),\n",
       " ('15496914', 8),\n",
       " ('7708661', 7),\n",
       " ('9295353', 7),\n",
       " ('11867707', 7),\n",
       " ('15965714', 7),\n",
       " ('15062640', 7),\n",
       " ('8226990', 7),\n",
       " ('8532683', 7),\n",
       " ('16484289', 7),\n",
       " ('3017658', 6),\n",
       " ('8626329', 6),\n",
       " ('10523524', 5),\n",
       " ('11387336', 5),\n",
       " ('10077530', 5),\n",
       " ('12032319', 5),\n",
       " ('14623291', 5),\n",
       " ('17123648', 5),\n",
       " ('1429627', 4),\n",
       " ('11489874', 4),\n",
       " ('19454675', 4),\n",
       " ('16928399', 4),\n",
       " ('10430863', 4),\n",
       " ('8045914', 4),\n",
       " ('11105050', 4),\n",
       " ('17934781', 4),\n",
       " ('1628664', 4),\n",
       " ('8232585', 4),\n",
       " ('9826752', 4),\n",
       " ('22689988', 4),\n",
       " ('7704275', 4),\n",
       " ('10077531', 3),\n",
       " ('9733678', 3),\n",
       " ('11301257', 3),\n",
       " ('12435500', 3),\n",
       " ('14728724', 3),\n",
       " ('12773403', 3),\n",
       " ('11594624', 3),\n",
       " ('16091594', 2),\n",
       " ('8168477', 2),\n",
       " ('10025966', 2),\n",
       " ('10762259', 2),\n",
       " ('10409652', 2),\n",
       " ('10899143', 2),\n",
       " ('18266867', 2),\n",
       " ('15808904', 2),\n",
       " ('21551351', 2),\n",
       " ('22636780', 2),\n",
       " ('18039659', 2),\n",
       " ('15072558', 2),\n",
       " ('8088532', 2),\n",
       " ('17332016', 2),\n",
       " ('1330536', 2),\n",
       " ('16224815', 2),\n",
       " ('12869211', 2),\n",
       " ('12812529', 2),\n",
       " ('12835326', 2),\n",
       " ('9990324', 2),\n",
       " ('16274966', 2),\n",
       " ('15142879', 2),\n",
       " ('9293009', 1),\n",
       " ('11423994', 1),\n",
       " ('16754674', 1),\n",
       " ('17195188', 1),\n",
       " ('15212463', 1),\n",
       " ('14961377', 1),\n",
       " ('1719634', 1),\n",
       " ('24040239', 1),\n",
       " ('16540171', 1),\n",
       " ('16513741', 1),\n",
       " ('9671580', 1),\n",
       " ('11158568', 1),\n",
       " ('7556082', 1),\n",
       " ('8973913', 1),\n",
       " ('9453151', 1),\n",
       " ('9440516', 1),\n",
       " ('8790387', 1),\n",
       " ('8550425', 1),\n",
       " ('9789042', 1),\n",
       " ('12598568', 1),\n",
       " ('8643637', 1),\n",
       " ('12949131', 1),\n",
       " ('16547256', 1),\n",
       " ('9714821', 1),\n",
       " ('11707075', 1),\n",
       " ('8404889', 1),\n",
       " ('9356472', 1),\n",
       " ('11157800', 1),\n",
       " ('15829955', 1),\n",
       " ('7783614', 1),\n",
       " ('24721142', 1),\n",
       " ('7789977', 1),\n",
       " ('20483233', 1),\n",
       " ('15629043', 1),\n",
       " ('11543627', 1),\n",
       " ('1348781', 1),\n",
       " ('10767549', 1),\n",
       " ('11274122', 1),\n",
       " ('18714020', 1),\n",
       " ('8051015', 1),\n",
       " ('10482784', 1),\n",
       " ('8824600', 1),\n",
       " ('9371756', 1),\n",
       " ('7828869', 1),\n",
       " ('12079282', 1),\n",
       " ('15235020', 1),\n",
       " ('15272073', 1),\n",
       " ('11326272', 1),\n",
       " ('23637642', 1),\n",
       " ('8890736', 1),\n",
       " ('14527721', 1),\n",
       " ('12354650', 1)]"
      ]
     },
     "execution_count": 24,
     "metadata": {},
     "output_type": "execute_result"
    }
   ],
   "source": [
    "# look at frequenies\n",
    "counter=collections.Counter(pubmed_ids)\n",
    "print('publications most frequently cited in patents')\n",
    "counter.most_common()\n",
    "\n"
   ]
  }
 ],
 "metadata": {
  "kernelspec": {
   "display_name": "Python 3",
   "language": "python",
   "name": "python3"
  },
  "language_info": {
   "codemirror_mode": {
    "name": "ipython",
    "version": 3
   },
   "file_extension": ".py",
   "mimetype": "text/x-python",
   "name": "python",
   "nbconvert_exporter": "python",
   "pygments_lexer": "ipython3",
   "version": "3.8.5"
  }
 },
 "nbformat": 4,
 "nbformat_minor": 4
}
